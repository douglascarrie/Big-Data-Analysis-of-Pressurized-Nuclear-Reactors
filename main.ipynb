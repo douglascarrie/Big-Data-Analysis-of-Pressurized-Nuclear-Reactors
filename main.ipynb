{
 "cells": [
  {
   "cell_type": "code",
   "execution_count": 1,
   "id": "594a83ec",
   "metadata": {},
   "outputs": [],
   "source": [
    "# finds spark module // so its ready to use.\n",
    "import findspark\n",
    "findspark.init()"
   ]
  },
  {
   "cell_type": "code",
   "execution_count": 2,
   "id": "145fc19d",
   "metadata": {},
   "outputs": [
    {
     "name": "stdout",
     "output_type": "stream",
     "text": [
      "root\n",
      " |-- Status: string (nullable = true)\n",
      " |-- Power_range_sensor_1: double (nullable = true)\n",
      " |-- Power_range_sensor_2: double (nullable = true)\n",
      " |-- Power_range_sensor_3: double (nullable = true)\n",
      " |-- Power_range_sensor_4: double (nullable = true)\n",
      " |-- Pressure_sensor_1: double (nullable = true)\n",
      " |-- Pressure_sensor_2: double (nullable = true)\n",
      " |-- Pressure_sensor_3: double (nullable = true)\n",
      " |-- Pressure_sensor_4: double (nullable = true)\n",
      " |-- Vibration_sensor_1: double (nullable = true)\n",
      " |-- Vibration_sensor_2: double (nullable = true)\n",
      " |-- Vibration_sensor_3: double (nullable = true)\n",
      " |-- Vibration_sensor_4: double (nullable = true)\n",
      "\n"
     ]
    }
   ],
   "source": [
    "import pyspark\n",
    "from pyspark.sql import SparkSession, SQLContext\n",
    "from pyspark.sql import SQLContext\n",
    "from pyspark.sql.types import StructType, StructField, IntegerType, StringType, DoubleType\n",
    "\n",
    "\n",
    "spark = SparkSession.builder.getOrCreate()\n",
    "# no header as will add own one\n",
    "schema = StructType([\n",
    "    StructField(\"Status\", StringType(), True),\n",
    "    StructField(\"Power_range_sensor_1\", DoubleType(), True),\n",
    "    StructField(\"Power_range_sensor_2\", DoubleType(), True),\n",
    "    StructField(\"Power_range_sensor_3\", DoubleType(), True),\n",
    "    StructField(\"Power_range_sensor_4\", DoubleType(), True),\n",
    "    StructField(\"Pressure_sensor_1\", DoubleType(), True),\n",
    "    StructField(\"Pressure_sensor_2\", DoubleType(), True),\n",
    "    StructField(\"Pressure_sensor_3\", DoubleType(), True),\n",
    "    StructField(\"Pressure_sensor_4\", DoubleType(), True),\n",
    "    StructField(\"Vibration_sensor_1\", DoubleType(), True),\n",
    "    StructField(\"Vibration_sensor_2\", DoubleType(), True),\n",
    "    StructField(\"Vibration_sensor_3\", DoubleType(), True),\n",
    "    StructField(\"Vibration_sensor_4\", DoubleType(), True),\n",
    "\n",
    "\n",
    "])\n",
    "\n",
    "\n",
    "df = spark.read.csv(\"nuclear_plants_small_dataset.csv\", header=False, schema=schema )\n",
    "\n",
    "               \n",
    "df.printSchema()\n",
    "\n"
   ]
  },
  {
   "cell_type": "code",
   "execution_count": 3,
   "id": "cfaa7506",
   "metadata": {},
   "outputs": [
    {
     "name": "stdout",
     "output_type": "stream",
     "text": [
      "-RECORD 0----------------------\n",
      " Status               | Status \n",
      " Power_range_sensor_1 | null   \n",
      " Power_range_sensor_2 | null   \n",
      " Power_range_sensor_3 | null   \n",
      " Power_range_sensor_4 | null   \n",
      " Pressure_sensor_1    | null   \n",
      " Pressure_sensor_2    | null   \n",
      " Pressure_sensor_3    | null   \n",
      " Pressure_sensor_4    | null   \n",
      " Vibration_sensor_1   | null   \n",
      " Vibration_sensor_2   | null   \n",
      " Vibration_sensor_3   | null   \n",
      " Vibration_sensor_4   | null   \n",
      "only showing top 1 row\n",
      "\n"
     ]
    }
   ],
   "source": [
    "df.show(1, vertical = True)"
   ]
  },
  {
   "cell_type": "markdown",
   "id": "a6a74163",
   "metadata": {},
   "source": [
    "### Checking for empty or Nan VALUES"
   ]
  },
  {
   "cell_type": "code",
   "execution_count": 3,
   "id": "1d9f4eb5",
   "metadata": {},
   "outputs": [
    {
     "data": {
      "text/plain": [
       "DataFrame[Status: string, Power_range_sensor_1: double, Power_range_sensor_2: double, Power_range_sensor_3: double, Power_range_sensor_4: double, Pressure_sensor_1: double, Pressure_sensor_2: double, Pressure_sensor_3: double, Pressure_sensor_4: double, Vibration_sensor_1: double, Vibration_sensor_2: double, Vibration_sensor_3: double, Vibration_sensor_4: double]"
      ]
     },
     "execution_count": 3,
     "metadata": {},
     "output_type": "execute_result"
    }
   ],
   "source": [
    "from pyspark.sql.functions import col,isnan, when, count, rand\n",
    "\n",
    "#slect null values\n",
    "df.na.drop(\"all\")\n",
    "\n",
    "\n",
    "\n"
   ]
  },
  {
   "cell_type": "code",
   "execution_count": 5,
   "id": "03702037",
   "metadata": {},
   "outputs": [
    {
     "name": "stdout",
     "output_type": "stream",
     "text": [
      "+------+--------------------+--------------------+--------------------+--------------------+-----------------+-----------------+-----------------+-----------------+------------------+------------------+------------------+------------------+\n",
      "|Status|Power_range_sensor_1|Power_range_sensor_2|Power_range_sensor_3|Power_range_sensor_4|Pressure_sensor_1|Pressure_sensor_2|Pressure_sensor_3|Pressure_sensor_4|Vibration_sensor_1|Vibration_sensor_2|Vibration_sensor_3|Vibration_sensor_4|\n",
      "+------+--------------------+--------------------+--------------------+--------------------+-----------------+-----------------+-----------------+-----------------+------------------+------------------+------------------+------------------+\n",
      "|Status|null                |null                |null                |null                |null             |null             |null             |null             |null              |null              |null              |null              |\n",
      "|Normal|4.5044              |0.7443              |6.34                |1.9052              |29.5315          |0.8647           |2.2044           |6.048            |14.4659           |21.648            |15.3429           |1.2186            |\n",
      "|Normal|4.4284              |0.9073              |5.6433              |1.6232              |27.5032          |1.4704           |1.9929           |5.9856           |20.8356           |0.0646            |14.8813           |7.3483            |\n",
      "|Normal|4.5291              |1.0199              |6.113               |1.0565              |26.4271          |1.9247           |1.942            |6.7162           |5.3358            |11.0779           |25.0914           |9.2408            |\n",
      "|Normal|5.1727              |1.0007              |7.8589              |0.2765              |25.1576          |2.609            |2.9234           |6.7485           |1.9017            |1.8463            |28.664            |4.0157            |\n",
      "+------+--------------------+--------------------+--------------------+--------------------+-----------------+-----------------+-----------------+-----------------+------------------+------------------+------------------+------------------+\n",
      "only showing top 5 rows\n",
      "\n"
     ]
    }
   ],
   "source": [
    "# show structure\n",
    "df.show(5, truncate = False)"
   ]
  },
  {
   "cell_type": "markdown",
   "id": "f25bc702",
   "metadata": {},
   "source": [
    "### Seperating Normal and abnormal data into different df"
   ]
  },
  {
   "cell_type": "code",
   "execution_count": 5,
   "id": "460ce51a",
   "metadata": {},
   "outputs": [],
   "source": [
    "# Seperate all Normal status values into new dataframe\n",
    "dfNormal = df.filter(df.Status == 'Normal' )\n",
    "\n",
    "\n",
    "# Seperate all Abnormal status values into new dataframe\n",
    "dfAbnormal = df.filter(df.Status == 'Abnormal' )\n",
    "\n",
    "\n",
    "#dfNormal.show(vertical=True)\n",
    "#dfAbnormal.show(vertical=True)"
   ]
  },
  {
   "cell_type": "markdown",
   "id": "a1f16ac6",
   "metadata": {},
   "source": [
    "### Getting maximum"
   ]
  },
  {
   "cell_type": "code",
   "execution_count": 6,
   "id": "9351cb0f",
   "metadata": {},
   "outputs": [
    {
     "name": "stdout",
     "output_type": "stream",
     "text": [
      "NORMAL --MAX - Power_range_sensor_1-4\n",
      "\n",
      "-RECORD 0----------------------------\n",
      " max(Power_range_sensor_1) | 12.1298 \n",
      "\n",
      "None\n",
      "-RECORD 0----------------------------\n",
      " max(Power_range_sensor_2) | 11.9284 \n",
      "\n",
      "None\n",
      "-RECORD 0----------------------------\n",
      " max(Power_range_sensor_3) | 14.0982 \n",
      "\n",
      "None\n",
      "-RECORD 0----------------------------\n",
      " max(Power_range_sensor_4) | 16.3568 \n",
      "\n",
      "None\n",
      "ABNORMAL --MAX - Power_range_sensor_1-4\n",
      "\n",
      "-RECORD 0------------------------------\n",
      " max(Power_range_sensor_1) | 10.923078 \n",
      "\n",
      "None \n",
      "\n",
      "-RECORD 0----------------------------\n",
      " max(Power_range_sensor_2) | 10.1541 \n",
      "\n",
      "None \n",
      "\n",
      "-RECORD 0----------------------------\n",
      " max(Power_range_sensor_3) | 15.7599 \n",
      "\n",
      "None \n",
      "\n",
      "-RECORD 0------------------------------\n",
      " max(Power_range_sensor_4) | 17.235858 \n",
      "\n",
      "None \n",
      "\n",
      "NORMAL --MAX - Pressure_sensor_1-4\n",
      "\n",
      "-RECORD 0-------------------------\n",
      " max(Pressure_sensor_1) | 56.8562 \n",
      "\n",
      "None\n",
      "-RECORD 0------------------------\n",
      " max(Pressure_sensor_2) | 9.2212 \n",
      "\n",
      "None\n",
      "-RECORD 0-------------------------\n",
      " max(Pressure_sensor_3) | 12.6475 \n",
      "\n",
      "None\n",
      "-RECORD 0-------------------------\n",
      " max(Pressure_sensor_4) | 15.1085 \n",
      "\n",
      "None\n",
      "ABNORMAL --MAX - Pressure_sensor_1-4\n",
      "\n",
      "-RECORD 0-------------------------\n",
      " max(Pressure_sensor_1) | 67.9794 \n",
      "\n",
      "None \n",
      "\n",
      "-RECORD 0---------------------------\n",
      " max(Pressure_sensor_2) | 10.242738 \n",
      "\n",
      "None \n",
      "\n",
      "-RECORD 0-------------------------\n",
      " max(Pressure_sensor_3) | 11.7724 \n",
      "\n",
      "None \n",
      "\n",
      "-RECORD 0--------------------------\n",
      " max(Pressure_sensor_4) | 16.55562 \n",
      "\n",
      "None \n",
      "\n",
      "NORMAL --MAX - Vibration_sensor_1-4\n",
      "\n",
      "-RECORD 0--------------------------\n",
      " max(Vibration_sensor_1) | 31.4981 \n",
      "\n",
      "None\n",
      "-RECORD 0--------------------------\n",
      " max(Vibration_sensor_2) | 34.8676 \n",
      "\n",
      "None\n",
      "-RECORD 0--------------------------\n",
      " max(Vibration_sensor_3) | 53.2384 \n",
      "\n",
      "None\n",
      "-RECORD 0--------------------------\n",
      " max(Vibration_sensor_4) | 43.2314 \n",
      "\n",
      "None\n",
      "ABNORMAL --MAX - Vibration_sensor_1-4\n",
      "\n",
      "-RECORD 0----------------------------\n",
      " max(Vibration_sensor_1) | 36.186438 \n",
      "\n",
      "None \n",
      "\n",
      "-RECORD 0----------------------------\n",
      " max(Vibration_sensor_2) | 34.331466 \n",
      "\n",
      "None \n",
      "\n",
      "-RECORD 0----------------------------\n",
      " max(Vibration_sensor_3) | 36.911454 \n",
      "\n",
      "None \n",
      "\n",
      "-RECORD 0--------------------------\n",
      " max(Vibration_sensor_4) | 26.4669 \n",
      "\n",
      "None \n",
      "\n"
     ]
    }
   ],
   "source": [
    "# maximum\n",
    "sensors = [\"Power_range_sensor_\", \"Pressure_sensor_\", \"Vibration_sensor_\"]\n",
    "for x in sensors:\n",
    "    i = 1\n",
    "    print(f'NORMAL --MAX - {x}1-4\\n')\n",
    "    while i < 5:\n",
    "        print(dfNormal.agg({x+ str(i): 'max'}).show(vertical=True))\n",
    "        i += 1\n",
    "    i = 1\n",
    "    print(f'ABNORMAL --MAX - {x}1-4\\n')\n",
    "    while i < 5:\n",
    "\n",
    "      print(dfAbnormal.agg({x+ str(i): 'max'}).show(vertical=True),'\\n')\n",
    "      i += 1\n",
    "\n"
   ]
  },
  {
   "cell_type": "markdown",
   "id": "1663596b",
   "metadata": {},
   "source": [
    "### Getting Minimum"
   ]
  },
  {
   "cell_type": "code",
   "execution_count": 7,
   "id": "4f06cc41",
   "metadata": {},
   "outputs": [
    {
     "name": "stdout",
     "output_type": "stream",
     "text": [
      "NORMAL --MIN - Power_range_sensor_1-4\n",
      "\n",
      "-RECORD 0---------------------------\n",
      " min(Power_range_sensor_1) | 0.0851 \n",
      "\n",
      "None\n",
      "-RECORD 0---------------------------\n",
      " min(Power_range_sensor_2) | 0.0403 \n",
      "\n",
      "None\n",
      "-RECORD 0---------------------------\n",
      " min(Power_range_sensor_3) | 4.3826 \n",
      "\n",
      "None\n",
      "-RECORD 0---------------------------\n",
      " min(Power_range_sensor_4) | 0.1547 \n",
      "\n",
      "None\n",
      "ABNORMAL --MIN - Power_range_sensor_1-4\n",
      "\n",
      "-RECORD 0---------------------------\n",
      " min(Power_range_sensor_1) | 0.0082 \n",
      "\n",
      "None\n",
      "-RECORD 0---------------------------\n",
      " min(Power_range_sensor_2) | 0.3891 \n",
      "\n",
      "None\n",
      "-RECORD 0-----------------------------\n",
      " min(Power_range_sensor_3) | 2.583966 \n",
      "\n",
      "None\n",
      "-RECORD 0---------------------------\n",
      " min(Power_range_sensor_4) | 0.0623 \n",
      "\n",
      "None\n",
      "NORMAL --MIN - Pressure_sensor_1-4\n",
      "\n",
      "-RECORD 0------------------------\n",
      " min(Pressure_sensor_1) | 0.0248 \n",
      "\n",
      "None\n",
      "-RECORD 0------------------------\n",
      " min(Pressure_sensor_2) | 0.0104 \n",
      "\n",
      "None\n",
      "-RECORD 0------------------------\n",
      " min(Pressure_sensor_3) | 0.0774 \n",
      "\n",
      "None\n",
      "-RECORD 0------------------------\n",
      " min(Pressure_sensor_4) | 0.0058 \n",
      "\n",
      "None\n",
      "ABNORMAL --MIN - Pressure_sensor_1-4\n",
      "\n",
      "-RECORD 0--------------------------\n",
      " min(Pressure_sensor_1) | 0.131478 \n",
      "\n",
      "None\n",
      "-RECORD 0--------------------------\n",
      " min(Pressure_sensor_2) | 0.008262 \n",
      "\n",
      "None\n",
      "-RECORD 0--------------------------\n",
      " min(Pressure_sensor_3) | 0.001224 \n",
      "\n",
      "None\n",
      "-RECORD 0--------------------------\n",
      " min(Pressure_sensor_4) | 0.029478 \n",
      "\n",
      "None\n",
      "NORMAL --MIN - Vibration_sensor_1-4\n",
      "\n",
      "-RECORD 0-------------------------\n",
      " min(Vibration_sensor_1) | 0.0092 \n",
      "\n",
      "None\n",
      "-RECORD 0-------------------------\n",
      " min(Vibration_sensor_2) | 0.0277 \n",
      "\n",
      "None\n",
      "-RECORD 0-------------------------\n",
      " min(Vibration_sensor_3) | 0.0646 \n",
      "\n",
      "None\n",
      "-RECORD 0-------------------------\n",
      " min(Vibration_sensor_4) | 0.0831 \n",
      "\n",
      "None\n",
      "ABNORMAL --MIN - Vibration_sensor_1-4\n",
      "\n",
      "-RECORD 0----------------------\n",
      " min(Vibration_sensor_1) | 0.0 \n",
      "\n",
      "None\n",
      "-RECORD 0-------------------------\n",
      " min(Vibration_sensor_2) | 0.0185 \n",
      "\n",
      "None\n",
      "-RECORD 0---------------------------\n",
      " min(Vibration_sensor_3) | 0.131784 \n",
      "\n",
      "None\n",
      "-RECORD 0-------------------------\n",
      " min(Vibration_sensor_4) | 0.0092 \n",
      "\n",
      "None\n"
     ]
    }
   ],
   "source": [
    "# min\n",
    "sensors = [\"Power_range_sensor_\", \"Pressure_sensor_\", \"Vibration_sensor_\"]\n",
    "for x in sensors:\n",
    "    i = 1\n",
    "    print(f'NORMAL --MIN - {x}1-4\\n')\n",
    "    while i < 5:\n",
    "\n",
    "      print(dfNormal.agg({x+ str(i): 'min'}).show(vertical=True))\n",
    "      i += 1\n",
    "    i = 1\n",
    "    print(f'ABNORMAL --MIN - {x}1-4\\n')\n",
    "    while i < 5:\n",
    "\n",
    "      print(dfAbnormal.agg({x+ str(i): 'min'}).show(vertical=True))\n",
    "      i += 1\n",
    "\n"
   ]
  },
  {
   "cell_type": "markdown",
   "id": "9e189ce9",
   "metadata": {},
   "source": [
    "### Getting mean"
   ]
  },
  {
   "cell_type": "code",
   "execution_count": 8,
   "id": "0696a8d3",
   "metadata": {},
   "outputs": [
    {
     "name": "stdout",
     "output_type": "stream",
     "text": [
      "NORMAL --MEAN - Power_range_sensor_1-4\n",
      "\n",
      "-RECORD 0--------------------------------------\n",
      " avg(Power_range_sensor_1) | 5.602452811244976 \n",
      "\n",
      "None\n",
      "-RECORD 0--------------------------------------\n",
      " avg(Power_range_sensor_2) | 6.844503413654616 \n",
      "\n",
      "None\n",
      "-RECORD 0--------------------------------------\n",
      " avg(Power_range_sensor_3) | 9.292054016064245 \n",
      "\n",
      "None\n",
      "-RECORD 0--------------------------------------\n",
      " avg(Power_range_sensor_4) | 8.701398192771098 \n",
      "\n",
      "None\n",
      "ABNORMAL --MEAN - Power_range_sensor_1-4\n",
      "\n",
      "-RECORD 0--------------------------------------\n",
      " avg(Power_range_sensor_1) | 4.396694975903612 \n",
      "\n",
      "None\n",
      "-RECORD 0--------------------------------------\n",
      " avg(Power_range_sensor_2) | 5.914042891566265 \n",
      "\n",
      "None\n",
      "-RECORD 0--------------------------------------\n",
      " avg(Power_range_sensor_3) | 9.164170212851408 \n",
      "\n",
      "None\n",
      "-RECORD 0-------------------------------------\n",
      " avg(Power_range_sensor_4) | 6.00914597991968 \n",
      "\n",
      "None\n",
      "NORMAL --MEAN - Pressure_sensor_1-4\n",
      "\n",
      "-RECORD 0------------------------------------\n",
      " avg(Pressure_sensor_1) | 13.797525502008051 \n",
      "\n",
      "None\n",
      "-RECORD 0------------------------------------\n",
      " avg(Pressure_sensor_2) | 3.4156463855421695 \n",
      "\n",
      "None\n",
      "-RECORD 0-----------------------------------\n",
      " avg(Pressure_sensor_3) | 5.923352610441759 \n",
      "\n",
      "None\n",
      "-RECORD 0-----------------------------------\n",
      " avg(Pressure_sensor_4) | 5.586180120481923 \n",
      "\n",
      "None\n",
      "ABNORMAL --MEAN - Pressure_sensor_1-4\n",
      "\n",
      "-RECORD 0------------------------------------\n",
      " avg(Pressure_sensor_1) | 14.600728132530124 \n",
      "\n",
      "None\n",
      "-RECORD 0------------------------------------\n",
      " avg(Pressure_sensor_2) | 2.7402695381526083 \n",
      "\n",
      "None\n",
      "-RECORD 0------------------------------------\n",
      " avg(Pressure_sensor_3) | 5.5751150803212814 \n",
      "\n",
      "None\n",
      "-RECORD 0----------------------------------\n",
      " avg(Pressure_sensor_4) | 4.40782413253012 \n",
      "\n",
      "None\n",
      "NORMAL --MEAN - Vibration_sensor_1-4\n",
      "\n",
      "-RECORD 0------------------------------------\n",
      " avg(Vibration_sensor_1) | 8.441436947791166 \n",
      "\n",
      "None\n",
      "-RECORD 0------------------------------------\n",
      " avg(Vibration_sensor_2) | 9.699615863453822 \n",
      "\n",
      "None\n",
      "-RECORD 0-------------------------------------\n",
      " avg(Vibration_sensor_3) | 19.437804417670666 \n",
      "\n",
      "None\n",
      "-RECORD 0-------------------------------------\n",
      " avg(Vibration_sensor_4) | 10.925097590361439 \n",
      "\n",
      "None\n",
      "ABNORMAL --MEAN - Vibration_sensor_1-4\n",
      "\n",
      "-RECORD 0------------------------------------\n",
      " avg(Vibration_sensor_1) | 7.887688803212859 \n",
      "\n",
      "None\n",
      "-RECORD 0-------------------------------------\n",
      " avg(Vibration_sensor_2) | 10.303569907630527 \n",
      "\n",
      "None\n",
      "-RECORD 0------------------------------------\n",
      " avg(Vibration_sensor_3) | 10.93815894779115 \n",
      "\n",
      "None\n",
      "-RECORD 0----------------------------------\n",
      " avg(Vibration_sensor_4) | 8.9420846746988 \n",
      "\n",
      "None\n"
     ]
    }
   ],
   "source": [
    "# mean\n",
    "sensors = [\"Power_range_sensor_\", \"Pressure_sensor_\", \"Vibration_sensor_\"]\n",
    "for x in sensors:\n",
    "    i = 1\n",
    "    print(f'NORMAL --MEAN - {x}1-4\\n')\n",
    "    while i < 5:\n",
    "\n",
    "      print(dfNormal.agg({x+ str(i): 'mean'}).show(vertical=True))\n",
    "      i += 1\n",
    "    i = 1\n",
    "    print(f'ABNORMAL --MEAN - {x}1-4\\n')\n",
    "    while i < 5:\n",
    "\n",
    "      print(dfAbnormal.agg({x+ str(i): 'mean'}).show(vertical=True))\n",
    "      i += 1\n"
   ]
  },
  {
   "cell_type": "markdown",
   "id": "dec77ba7",
   "metadata": {},
   "source": [
    "### Getting Variance"
   ]
  },
  {
   "cell_type": "code",
   "execution_count": 9,
   "id": "4183868f",
   "metadata": {},
   "outputs": [
    {
     "name": "stdout",
     "output_type": "stream",
     "text": [
      "NORMAL --Variance - Power_range_sensor_1-4\n",
      "\n",
      "-RECORD 0-------------------------------------------\n",
      " variance(Power_range_sensor_1) | 8.374354492436746 \n",
      "\n",
      "None\n",
      "-RECORD 0-------------------------------------------\n",
      " variance(Power_range_sensor_2) | 4.880531200853515 \n",
      "\n",
      "None\n",
      "-RECORD 0-------------------------------------------\n",
      " variance(Power_range_sensor_3) | 4.173688700195111 \n",
      "\n",
      "None\n",
      "-RECORD 0--------------------------------------------\n",
      " variance(Power_range_sensor_4) | 20.053993554020884 \n",
      "\n",
      "None\n",
      "ABNORMAL --Variance - Power_range_sensor_1-4\n",
      "\n",
      "-RECORD 0-------------------------------------------\n",
      " variance(Power_range_sensor_1) | 6.201490118793131 \n",
      "\n",
      "None\n",
      "-RECORD 0-------------------------------------------\n",
      " variance(Power_range_sensor_2) | 5.392428867311033 \n",
      "\n",
      "None\n",
      "-RECORD 0-------------------------------------------\n",
      " variance(Power_range_sensor_3) | 8.654818018354874 \n",
      "\n",
      "None\n",
      "-RECORD 0--------------------------------------------\n",
      " variance(Power_range_sensor_4) | 14.280946623673312 \n",
      "\n",
      "None\n",
      "NORMAL --Variance - Pressure_sensor_1-4\n",
      "\n",
      "-RECORD 0-----------------------------------------\n",
      " variance(Pressure_sensor_1) | 138.37257347272865 \n",
      "\n",
      "None\n",
      "-RECORD 0----------------------------------------\n",
      " variance(Pressure_sensor_2) | 4.806673026314872 \n",
      "\n",
      "None\n",
      "-RECORD 0----------------------------------------\n",
      " variance(Pressure_sensor_3) | 6.499049116421752 \n",
      "\n",
      "None\n",
      "-RECORD 0----------------------------------------\n",
      " variance(Pressure_sensor_4) | 18.37268188992595 \n",
      "\n",
      "None\n",
      "ABNORMAL --Variance - Pressure_sensor_1-4\n",
      "\n",
      "-RECORD 0-----------------------------------------\n",
      " variance(Pressure_sensor_1) | 134.42562444441973 \n",
      "\n",
      "None\n",
      "-RECORD 0----------------------------------------\n",
      " variance(Pressure_sensor_2) | 4.014421746820416 \n",
      "\n",
      "None\n",
      "-RECORD 0----------------------------------------\n",
      " variance(Pressure_sensor_3) | 6.215756717729965 \n",
      "\n",
      "None\n",
      "-RECORD 0-----------------------------------------\n",
      " variance(Pressure_sensor_4) | 15.669184817711217 \n",
      "\n",
      "None\n",
      "NORMAL --Variance - Vibration_sensor_1-4\n",
      "\n",
      "-RECORD 0-----------------------------------------\n",
      " variance(Vibration_sensor_1) | 38.52794801577502 \n",
      "\n",
      "None\n",
      "-RECORD 0------------------------------------------\n",
      " variance(Vibration_sensor_2) | 49.060657006045574 \n",
      "\n",
      "None\n",
      "-RECORD 0------------------------------------------\n",
      " variance(Vibration_sensor_3) | 193.13624276565452 \n",
      "\n",
      "None\n",
      "-RECORD 0----------------------------------------\n",
      " variance(Vibration_sensor_4) | 67.3093714686461 \n",
      "\n",
      "None\n",
      "ABNORMAL --Variance - Vibration_sensor_1-4\n",
      "\n",
      "-RECORD 0-----------------------------------------\n",
      " variance(Vibration_sensor_1) | 37.61341588622746 \n",
      "\n",
      "None\n",
      "-RECORD 0-----------------------------------------\n",
      " variance(Vibration_sensor_2) | 58.50550622001145 \n",
      "\n",
      "None\n",
      "-RECORD 0---------------------------------------\n",
      " variance(Vibration_sensor_3) | 66.679536241711 \n",
      "\n",
      "None\n",
      "-RECORD 0-----------------------------------------\n",
      " variance(Vibration_sensor_4) | 36.89342263539999 \n",
      "\n",
      "None\n"
     ]
    }
   ],
   "source": [
    "# variance\n",
    "sensors = [\"Power_range_sensor_\", \"Pressure_sensor_\", \"Vibration_sensor_\"]\n",
    "for x in sensors:\n",
    "    i = 1\n",
    "    print(f'NORMAL --Variance - {x}1-4\\n')\n",
    "    while i < 5:\n",
    "\n",
    "      print(dfNormal.agg({x+ str(i): 'variance'}).show(vertical=True))\n",
    "      i += 1\n",
    "    i = 1\n",
    "    print(f'ABNORMAL --Variance - {x}1-4\\n')\n",
    "    while i < 5:\n",
    "\n",
    "      print(dfAbnormal.agg({x+ str(i): 'variance'}).show(vertical=True))\n",
    "      i += 1\n"
   ]
  },
  {
   "cell_type": "markdown",
   "id": "8494f3a6",
   "metadata": {},
   "source": [
    "#### Converting Pyspark df to Pandas df"
   ]
  },
  {
   "cell_type": "code",
   "execution_count": 10,
   "id": "53680160",
   "metadata": {},
   "outputs": [],
   "source": [
    "#import pandas for df\n",
    "import pandas as pd \n",
    "import matplotlib.pyplot as plt\n",
    "\n",
    "#converting PySpark df to Pandas df\n",
    "PdfNormal = dfNormal.toPandas()\n",
    "PdfAbnormal = dfAbnormal.toPandas()\n"
   ]
  },
  {
   "cell_type": "markdown",
   "id": "4b1a470e",
   "metadata": {},
   "source": [
    "### Getting Median"
   ]
  },
  {
   "cell_type": "code",
   "execution_count": 11,
   "id": "267ee5c5",
   "metadata": {},
   "outputs": [
    {
     "name": "stdout",
     "output_type": "stream",
     "text": [
      "\n",
      "NORMAL --Median - Power_range_sensor_1-4\n",
      "\n",
      "Power_range_sensor_1:  7.4498999999999995\n",
      "Power_range_sensor_2:  8.70075\n",
      "Power_range_sensor_3:  16.4645\n",
      "Power_range_sensor_4:  9.48545\n",
      "\n",
      "ABNORMAL --Median - Power_range_sensor_1-4\n",
      "\n",
      "Power_range_sensor_1:  6.53595\n",
      "Power_range_sensor_2:  8.973099999999999\n",
      "Power_range_sensor_3:  8.987269000000001\n",
      "Power_range_sensor_4:  8.137599999999999\n",
      "\n",
      "NORMAL --Median - Pressure_sensor_1-4\n",
      "\n",
      "Pressure_sensor_1:  7.4498999999999995\n",
      "Pressure_sensor_2:  8.70075\n",
      "Pressure_sensor_3:  16.4645\n",
      "Pressure_sensor_4:  9.48545\n",
      "\n",
      "ABNORMAL --Median - Pressure_sensor_1-4\n",
      "\n",
      "Pressure_sensor_1:  6.53595\n",
      "Pressure_sensor_2:  8.973099999999999\n",
      "Pressure_sensor_3:  8.987269000000001\n",
      "Pressure_sensor_4:  8.137599999999999\n",
      "\n",
      "NORMAL --Median - Vibration_sensor_1-4\n",
      "\n",
      "Vibration_sensor_1:  7.4498999999999995\n",
      "Vibration_sensor_2:  8.70075\n",
      "Vibration_sensor_3:  16.4645\n",
      "Vibration_sensor_4:  9.48545\n",
      "\n",
      "ABNORMAL --Median - Vibration_sensor_1-4\n",
      "\n",
      "Vibration_sensor_1:  6.53595\n",
      "Vibration_sensor_2:  8.973099999999999\n",
      "Vibration_sensor_3:  8.987269000000001\n",
      "Vibration_sensor_4:  8.137599999999999\n"
     ]
    }
   ],
   "source": [
    "# median\n",
    "sensors = [\"Power_range_sensor_\", \"Pressure_sensor_\", \"Vibration_sensor_\"]\n",
    "for x in sensors:\n",
    "    i = 1\n",
    "    print(f'\\nNORMAL --Median - {x}1-4\\n')\n",
    "    while i < 5:\n",
    "\n",
    "      print(x+str(i)+': ',PdfNormal['Vibration_sensor_'+str(i)].median())\n",
    "      i += 1\n",
    "    i = 1\n",
    "    print(f'\\nABNORMAL --Median - {x}1-4\\n')\n",
    "    while i < 5:\n",
    "\n",
    "      print(x+str(i)+': ',PdfAbnormal['Vibration_sensor_'+str(i)].median())\n",
    "      i += 1\n",
    "\n"
   ]
  },
  {
   "cell_type": "markdown",
   "id": "9b45b0a1",
   "metadata": {},
   "source": [
    "### Getting Mode"
   ]
  },
  {
   "cell_type": "code",
   "execution_count": 12,
   "id": "d312bbbe",
   "metadata": {},
   "outputs": [
    {
     "name": "stdout",
     "output_type": "stream",
     "text": [
      "\n",
      "NORMAL --Mode - Power_range_sensor_1-4\n",
      "\n",
      "Power_range_sensor_1:  3.1577\n",
      "Power_range_sensor_2:  4.6701\n",
      "Power_range_sensor_3:  10.5588\n",
      "Power_range_sensor_4:  1.2506\n",
      "\n",
      "ABNORMAL --Mode - Power_range_sensor_1-4\n",
      "\n",
      "Power_range_sensor_1:  0.1273\n",
      "Power_range_sensor_2:  1.976964\n",
      "Power_range_sensor_3:  3.86886\n",
      "Power_range_sensor_4:  3.528996\n",
      "\n",
      "NORMAL --Mode - Pressure_sensor_1-4\n",
      "\n",
      "Pressure_sensor_1:  3.1577\n",
      "Pressure_sensor_2:  4.6701\n",
      "Pressure_sensor_3:  10.5588\n",
      "Pressure_sensor_4:  1.2506\n",
      "\n",
      "ABNORMAL --Mode - Pressure_sensor_1-4\n",
      "\n",
      "Pressure_sensor_1:  0.1273\n",
      "Pressure_sensor_2:  1.976964\n",
      "Pressure_sensor_3:  3.86886\n",
      "Pressure_sensor_4:  3.528996\n",
      "\n",
      "NORMAL --Mode - Vibration_sensor_1-4\n",
      "\n",
      "Vibration_sensor_1:  3.1577\n",
      "Vibration_sensor_2:  4.6701\n",
      "Vibration_sensor_3:  10.5588\n",
      "Vibration_sensor_4:  1.2506\n",
      "\n",
      "ABNORMAL --Mode - Vibration_sensor_1-4\n",
      "\n",
      "Vibration_sensor_1:  0.1273\n",
      "Vibration_sensor_2:  1.976964\n",
      "Vibration_sensor_3:  3.86886\n",
      "Vibration_sensor_4:  3.528996\n"
     ]
    }
   ],
   "source": [
    "# mode\n",
    "sensors = [\"Power_range_sensor_\", \"Pressure_sensor_\", \"Vibration_sensor_\"]\n",
    "for x in sensors:\n",
    "    i = 1\n",
    "    print(f'\\nNORMAL --Mode - {x}1-4\\n')\n",
    "    while i < 5:\n",
    "\n",
    "      print(x+str(i)+': ',PdfNormal['Power_range_sensor_'+str(i)].mode()[0])\n",
    "      i += 1\n",
    "    i = 1\n",
    "    print(f'\\nABNORMAL --Mode - {x}1-4\\n')\n",
    "    while i < 5:\n",
    "\n",
    "      print(x+str(i)+': ',PdfAbnormal['Power_range_sensor_'+str(i)].mode()[0])\n",
    "      i += 1\n",
    "\n"
   ]
  },
  {
   "cell_type": "markdown",
   "id": "0d7a5c0a",
   "metadata": {},
   "source": [
    "# Making box plots of the data"
   ]
  },
  {
   "cell_type": "code",
   "execution_count": 13,
   "id": "3edef354",
   "metadata": {},
   "outputs": [
    {
     "data": {
      "image/png": "[encoded data removed]",
      "text/plain": [
       "<Figure size 432x288 with 1 Axes>"
      ]
     },
     "metadata": {},
     "output_type": "display_data"
    }
   ],
   "source": [
    "# Power range sensors\n",
    "\n",
    "#import seaborn\n",
    "import seaborn as sns\n",
    "\n",
    "#set style for boxplot\n",
    "sns.set_theme(style='whitegrid')\n",
    "\n",
    "#Normal - POWER RANGE SENSORS\n",
    "xN = PdfNormal[[\"Power_range_sensor_1\", \"Power_range_sensor_2\", \"Power_range_sensor_3\", \"Power_range_sensor_4\"]].rename(columns={\"Power_range_sensor_1\" :\"Sensor 1\", \"Power_range_sensor_2\" : \"Sensor 2\", \"Power_range_sensor_3\" : \"Sensor 3\",\"Power_range_sensor_4\" : \"Sensor 4\"})\n",
    "sns.boxplot(data=xN).set_title('Power Range Sensors -- Status: NORMAL')\n",
    "sns.despine(left=True)\n",
    "plt.savefig('Boxplots/Power_range_sensors_Normal.png',dpi=180)\n"
   ]
  },
  {
   "cell_type": "code",
   "execution_count": 14,
   "id": "2c4dc42b",
   "metadata": {},
   "outputs": [
    {
     "data": {
      "image/png": "[encoded data removed]",
      "text/plain": [
       "<Figure size 432x288 with 1 Axes>"
      ]
     },
     "metadata": {},
     "output_type": "display_data"
    }
   ],
   "source": [
    "#AbNormal - POWER RANGE SENSORS\n",
    "xA = PdfAbnormal[[\"Power_range_sensor_1\", \"Power_range_sensor_2\", \"Power_range_sensor_3\", \"Power_range_sensor_4\"]].rename(columns={\"Power_range_sensor_1\" :\"Sensor 1\", \"Power_range_sensor_2\" : \"Sensor 2\", \"Power_range_sensor_3\" : \"Sensor 3\",\"Power_range_sensor_4\" : \"Sensor 4\"})\n",
    "sns.boxplot(data=xA).set_title('Power Range Sensors -- Status: ABNORMAL')\n",
    "sns.despine(left=True)\n",
    "plt.savefig('Boxplots/Power_range_sensors_Abnormal.png',dpi=180)"
   ]
  },
  {
   "cell_type": "code",
   "execution_count": 15,
   "id": "a917c969",
   "metadata": {},
   "outputs": [
    {
     "data": {
      "image/png": "[encoded data removed]",
      "text/plain": [
       "<Figure size 432x288 with 1 Axes>"
      ]
     },
     "metadata": {},
     "output_type": "display_data"
    }
   ],
   "source": [
    "#Normal - PRESSURE SENSORS\n",
    "xA = PdfNormal[[\"Pressure_sensor_1\", \"Pressure_sensor_2\", \"Pressure_sensor_3\", \"Pressure_sensor_4\"]].rename(columns={\"Pressure_sensor_1\" :\"Sensor 1\", \"Pressure_sensor_2\" : \"Sensor 2\", \"Pressure_sensor_3\" : \"Sensor 3\", \"Pressure_sensor_4\" : \"Sensor 4\"})\n",
    "sns.boxplot(data=xA).set_title('Pressure Sensors -- Status: NORMAL')\n",
    "sns.despine(left=True)\n",
    "plt.savefig('Boxplots/Pressure_sensors_Normal.png',dpi=180)"
   ]
  },
  {
   "cell_type": "code",
   "execution_count": 16,
   "id": "32f2355b",
   "metadata": {},
   "outputs": [
    {
     "data": {
      "image/png": "[encoded data removed]",
      "text/plain": [
       "<Figure size 432x288 with 1 Axes>"
      ]
     },
     "metadata": {},
     "output_type": "display_data"
    }
   ],
   "source": [
    "#Abnormal - PRESSURE SENSORS\n",
    "xA = PdfAbnormal[[\"Pressure_sensor_1\", \"Pressure_sensor_2\", \"Pressure_sensor_3\", \"Pressure_sensor_4\"]].rename(columns={\"Pressure_sensor_1\" :\"Sensor 1\", \"Pressure_sensor_2\" : \"Sensor 2\", \"Pressure_sensor_3\" : \"Sensor 3\", \"Pressure_sensor_4\" : \"Sensor 4\"})\n",
    "sns.boxplot(data=xA).set_title('Pressure Sensors -- Status: ABNORMAL')\n",
    "sns.despine(left=True)\n",
    "plt.savefig('Boxplots/Pressure_sensors_Abnormal.png',dpi=180)"
   ]
  },
  {
   "cell_type": "code",
   "execution_count": 17,
   "id": "322696e8",
   "metadata": {},
   "outputs": [
    {
     "data": {
      "image/png": "[encoded data removed]",
      "text/plain": [
       "<Figure size 432x288 with 1 Axes>"
      ]
     },
     "metadata": {},
     "output_type": "display_data"
    }
   ],
   "source": [
    "#Normal - VIBRATION SESNORS \n",
    "xA = PdfNormal[[\"Vibration_sensor_1\", \"Vibration_sensor_2\", \"Vibration_sensor_3\", \"Vibration_sensor_4\"]].rename(columns={\"Vibration_sensor_1\" :\"Sensor 1\", \"Vibration_sensor_2\" : \"Sensor 2\", \"Vibration_sensor_3\" : \"Sensor 3\", \"Vibration_sensor_4\" : \"Sensor 4\"})\n",
    "sns.boxplot(data=xA).set_title('Vibration Sensors -- Status: NORMAL')\n",
    "sns.despine(left=True)\n",
    "plt.savefig('Boxplots/Vibration_sensors_Normal.png',dpi=180)"
   ]
  },
  {
   "cell_type": "code",
   "execution_count": 18,
   "id": "23d0d1fe",
   "metadata": {},
   "outputs": [
    {
     "data": {
      "image/png": "[encoded data removed]",
      "text/plain": [
       "<Figure size 432x288 with 1 Axes>"
      ]
     },
     "metadata": {},
     "output_type": "display_data"
    }
   ],
   "source": [
    "#Abnormal - VIBRATION SESNORS \n",
    "xA = PdfAbnormal[[\"Vibration_sensor_1\", \"Vibration_sensor_2\", \"Vibration_sensor_3\", \"Vibration_sensor_4\"]].rename(columns={\"Vibration_sensor_1\" :\"Sensor 1\", \"Vibration_sensor_2\" : \"Sensor 2\", \"Vibration_sensor_3\" : \"Sensor 3\", \"Vibration_sensor_4\" : \"Sensor 4\"})\n",
    "sns.boxplot(data=xA).set_title('Vibration Sensors -- Status: ABNORMAL')\n",
    "sns.despine(left=True)\n",
    "plt.savefig('Boxplots/Vibration_sensors_Abnormal.png',dpi=180)"
   ]
  },
  {
   "cell_type": "code",
   "execution_count": 19,
   "id": "c54f8da5",
   "metadata": {
    "scrolled": false
   },
   "outputs": [
    {
     "data": {
      "image/png": "[encoded data removed]",
      "text/plain": [
       "<Figure size 1152x864 with 2 Axes>"
      ]
     },
     "metadata": {},
     "output_type": "display_data"
    }
   ],
   "source": [
    "dfP = df.toPandas()\n",
    "dfP = dfP.drop('Status', axis=1)\n",
    "plt.figure(figsize=(16, 12))\n",
    "\n",
    "ax = sns.heatmap(dfP.corr(), annot=True, vmin=-1, vmax=1)\n",
    "ax.set_title(\"Correlation Matrix of the Features\",fontsize = 23)\n",
    "plt.savefig('CorrelationMatrix.png',dpi=120)"
   ]
  },
  {
   "cell_type": "markdown",
   "id": "df23ad7a",
   "metadata": {},
   "source": [
    "\n",
    "\n",
    "\n",
    "\n",
    "\n",
    "\n",
    "\n",
    "# Creating Networks to detect state of reactors"
   ]
  },
  {
   "cell_type": "markdown",
   "id": "4598da18",
   "metadata": {},
   "source": [
    "Instructions:\n",
    "- Shuffle the data & split \n",
    "-    70% training set\n",
    "-    30% test set"
   ]
  },
  {
   "cell_type": "code",
   "execution_count": 20,
   "id": "ab1178f4",
   "metadata": {},
   "outputs": [],
   "source": [
    "from pyspark.ml.linalg import Vectors\n",
    "from pyspark.ml.feature import VectorAssembler\n",
    "from pyspark.sql.types import IntegerType\n",
    "\n",
    "#convert to integer\n",
    "for x in range(1, 5):\n",
    "\n",
    "    df = df.withColumn('Power_range_sensor_'+str(x) , df['Power_range_sensor_'+str(x)].cast(IntegerType()))\n",
    "    df = df.withColumn('Pressure_sensor_'+str(x) , df['Pressure_sensor_'+str(x)].cast(IntegerType()))\n",
    "    df = df.withColumn('Vibration_sensor_'+str(x) , df['Vibration_sensor_'+str(x)].cast(IntegerType()))\n",
    "    "
   ]
  },
  {
   "cell_type": "code",
   "execution_count": 21,
   "id": "cac88068",
   "metadata": {},
   "outputs": [
    {
     "name": "stdout",
     "output_type": "stream",
     "text": [
      "root\n",
      " |-- Status: string (nullable = true)\n",
      " |-- Power_range_sensor_1: integer (nullable = true)\n",
      " |-- Power_range_sensor_2: integer (nullable = true)\n",
      " |-- Power_range_sensor_3: integer (nullable = true)\n",
      " |-- Power_range_sensor_4: integer (nullable = true)\n",
      " |-- Pressure_sensor_1: integer (nullable = true)\n",
      " |-- Pressure_sensor_2: integer (nullable = true)\n",
      " |-- Pressure_sensor_3: integer (nullable = true)\n",
      " |-- Pressure_sensor_4: integer (nullable = true)\n",
      " |-- Vibration_sensor_1: integer (nullable = true)\n",
      " |-- Vibration_sensor_2: integer (nullable = true)\n",
      " |-- Vibration_sensor_3: integer (nullable = true)\n",
      " |-- Vibration_sensor_4: integer (nullable = true)\n",
      "\n"
     ]
    }
   ],
   "source": [
    "df.printSchema()"
   ]
  },
  {
   "cell_type": "markdown",
   "id": "eb2d0f63",
   "metadata": {},
   "source": [
    "### Forming each column into attribute"
   ]
  },
  {
   "cell_type": "code",
   "execution_count": 22,
   "id": "c750b054",
   "metadata": {},
   "outputs": [
    {
     "data": {
      "text/plain": [
       "VectorAssembler_fe025a407b89"
      ]
     },
     "execution_count": 22,
     "metadata": {},
     "output_type": "execute_result"
    }
   ],
   "source": [
    "assembler = VectorAssembler(\n",
    "    inputCols=[\n",
    " 'Power_range_sensor_1',\n",
    " 'Power_range_sensor_2',\n",
    " 'Power_range_sensor_3',\n",
    " 'Power_range_sensor_4',\n",
    " 'Pressure_sensor_1',\n",
    " 'Pressure_sensor_2',\n",
    " 'Pressure_sensor_3',\n",
    " 'Pressure_sensor_4',\n",
    " 'Vibration_sensor_1',\n",
    " 'Vibration_sensor_2',\n",
    " 'Vibration_sensor_3',\n",
    " 'Vibration_sensor_4'\n",
    "\n",
    "    ],\n",
    "    outputCol='features',\n",
    "    \n",
    "\n",
    ")\n",
    "# used to skip null entires // needed as when fixing header names, it creates some null collum apart from status which could not be removed\n",
    "assembler.setHandleInvalid(\"skip\")"
   ]
  },
  {
   "cell_type": "code",
   "execution_count": 23,
   "id": "e729f78f",
   "metadata": {},
   "outputs": [],
   "source": [
    "output = assembler.transform(df)\n"
   ]
  },
  {
   "cell_type": "markdown",
   "id": "ea9e22d6",
   "metadata": {},
   "source": [
    "### string variable (Status) "
   ]
  },
  {
   "cell_type": "code",
   "execution_count": 24,
   "id": "d7c9a3d7",
   "metadata": {},
   "outputs": [],
   "source": [
    "from pyspark.ml.feature import StringIndexer"
   ]
  },
  {
   "cell_type": "code",
   "execution_count": 25,
   "id": "38d14c13",
   "metadata": {},
   "outputs": [],
   "source": [
    "indexer = StringIndexer(inputCol='Status', outputCol='StatusIndexer')\n",
    "\n",
    "output_fixed = indexer.fit(output).transform(output)\n",
    "#output_fixed.show(900)"
   ]
  },
  {
   "cell_type": "code",
   "execution_count": 26,
   "id": "57a1fa41",
   "metadata": {},
   "outputs": [],
   "source": [
    "df_final = output_fixed.select('features', 'StatusIndexer')"
   ]
  },
  {
   "cell_type": "code",
   "execution_count": 27,
   "id": "ca77e831",
   "metadata": {},
   "outputs": [
    {
     "name": "stdout",
     "output_type": "stream",
     "text": [
      "+-----------------------------------------------------+-------------+\n",
      "|features                                             |StatusIndexer|\n",
      "+-----------------------------------------------------+-------------+\n",
      "|[4.0,0.0,6.0,1.0,29.0,0.0,2.0,6.0,14.0,21.0,15.0,1.0]|1.0          |\n",
      "|[4.0,0.0,5.0,1.0,27.0,1.0,1.0,5.0,20.0,0.0,14.0,7.0] |1.0          |\n",
      "|[4.0,1.0,6.0,1.0,26.0,1.0,1.0,6.0,5.0,11.0,25.0,9.0] |1.0          |\n",
      "|[5.0,1.0,7.0,0.0,25.0,2.0,2.0,6.0,1.0,1.0,28.0,4.0]  |1.0          |\n",
      "|[5.0,0.0,7.0,0.0,24.0,3.0,4.0,5.0,0.0,9.0,34.0,13.0] |1.0          |\n",
      "+-----------------------------------------------------+-------------+\n",
      "only showing top 5 rows\n",
      "\n"
     ]
    }
   ],
   "source": [
    "df_final.show(5, truncate=False)"
   ]
  },
  {
   "cell_type": "markdown",
   "id": "ff858cae",
   "metadata": {},
   "source": [
    "Split dataset with 'df_final' dataframe"
   ]
  },
  {
   "cell_type": "code",
   "execution_count": 29,
   "id": "d5404aaf",
   "metadata": {},
   "outputs": [
    {
     "data": {
      "text/plain": [
       "255"
      ]
     },
     "execution_count": 29,
     "metadata": {},
     "output_type": "execute_result"
    }
   ],
   "source": [
    "(trainingData, testData) = df_final.randomSplit([0.7, 0.3], seed=42)\n",
    "\n",
    "# size of test data\n",
    "testData.count()"
   ]
  },
  {
   "cell_type": "code",
   "execution_count": 30,
   "id": "11b87d63",
   "metadata": {},
   "outputs": [
    {
     "data": {
      "text/plain": [
       "366"
      ]
     },
     "execution_count": 30,
     "metadata": {},
     "output_type": "execute_result"
    }
   ],
   "source": [
    "# 1 == Normal\n",
    "\n",
    "# size of training data\n",
    "trainingData.filter(trainingData.StatusIndexer == '1').count()"
   ]
  },
  {
   "cell_type": "code",
   "execution_count": 31,
   "id": "8a695efb",
   "metadata": {},
   "outputs": [
    {
     "data": {
      "text/plain": [
       "375"
      ]
     },
     "execution_count": 31,
     "metadata": {},
     "output_type": "execute_result"
    }
   ],
   "source": [
    "# 0 == Abnormal\n",
    "trainingData.filter(trainingData.StatusIndexer == '0').count()"
   ]
  },
  {
   "cell_type": "code",
   "execution_count": 32,
   "id": "5f277cb8",
   "metadata": {},
   "outputs": [
    {
     "data": {
      "text/plain": [
       "132"
      ]
     },
     "execution_count": 32,
     "metadata": {},
     "output_type": "execute_result"
    }
   ],
   "source": [
    "# 1 == Normal\n",
    "testData.filter(testData.StatusIndexer == '1').count()"
   ]
  },
  {
   "cell_type": "code",
   "execution_count": 33,
   "id": "327f8687",
   "metadata": {},
   "outputs": [
    {
     "data": {
      "text/plain": [
       "123"
      ]
     },
     "execution_count": 33,
     "metadata": {},
     "output_type": "execute_result"
    }
   ],
   "source": [
    "# 0 == Abnormal\n",
    "testData.filter(testData.StatusIndexer == '0').count()"
   ]
  },
  {
   "cell_type": "markdown",
   "id": "6b929a38",
   "metadata": {},
   "source": [
    "Tree classifiers"
   ]
  },
  {
   "cell_type": "code",
   "execution_count": 35,
   "id": "18baf0ca",
   "metadata": {},
   "outputs": [],
   "source": [
    "from pyspark.ml.classification import DecisionTreeClassifier, MultilayerPerceptronClassifier, LinearSVC\n",
    "from pyspark.ml.linalg import Vectors\n",
    "from pyspark.ml import Pipeline\n",
    "# Neural network layers\n"
   ]
  },
  {
   "cell_type": "markdown",
   "id": "387d5d82",
   "metadata": {},
   "source": [
    "Create models ( decision tree, Support vector, NN)"
   ]
  },
  {
   "cell_type": "code",
   "execution_count": 36,
   "id": "02361d87",
   "metadata": {},
   "outputs": [],
   "source": [
    "dtc = DecisionTreeClassifier(labelCol='StatusIndexer', featuresCol='features')\n",
    "lsvc = LinearSVC(featuresCol='features', labelCol='StatusIndexer', maxIter=10, regParam=0.1)\n",
    "nnc = MultilayerPerceptronClassifier(labelCol='StatusIndexer', featuresCol='features', layers=[12, 4, 4, 2], seed=123)\n",
    "\n",
    "\n",
    "nnc.getBlockSize()\n",
    "# Fit the models\n",
    "lsvcModel = lsvc.fit(trainingData)\n",
    "dtc_model = dtc.fit(trainingData)\n",
    "nncModel = nnc.fit(trainingData)"
   ]
  },
  {
   "cell_type": "code",
   "execution_count": 38,
   "id": "ee124fca",
   "metadata": {},
   "outputs": [],
   "source": [
    "# make predictions\n",
    "dtc_pred = dtc_model.transform(testData)\n",
    "lsv_pred = lsvcModel.transform(testData)\n",
    "nnc_pred = nncModel.transform(testData)"
   ]
  },
  {
   "cell_type": "markdown",
   "id": "f6c5bafc",
   "metadata": {},
   "source": [
    "Evaluate Models"
   ]
  },
  {
   "cell_type": "code",
   "execution_count": 39,
   "id": "9fe510a1",
   "metadata": {},
   "outputs": [],
   "source": [
    "from pyspark.ml.evaluation import MulticlassClassificationEvaluator, BinaryClassificationEvaluator\n"
   ]
  },
  {
   "cell_type": "code",
   "execution_count": 40,
   "id": "f1a992d4",
   "metadata": {},
   "outputs": [],
   "source": [
    "acc_eval = MulticlassClassificationEvaluator(labelCol='StatusIndexer', predictionCol='prediction', metricName='accuracy')"
   ]
  },
  {
   "cell_type": "code",
   "execution_count": 63,
   "id": "b2b9d76f",
   "metadata": {},
   "outputs": [
    {
     "name": "stdout",
     "output_type": "stream",
     "text": [
      "Model accuracies: \n",
      "\n",
      "Decision Tree Accuracy: 82.0% \n",
      "Learning Support Accuracy: 74.1% \n",
      "Neural Network Accuracy: 76.5% \n"
     ]
    }
   ],
   "source": [
    "dtc_acc = acc_eval.evaluate(dtc_pred)\n",
    "lsv_acc = acc_eval.evaluate(lsv_pred)\n",
    "nnc_acc = acc_eval.evaluate(nnc_pred)\n",
    "\n",
    "print(\"Model accuracies: \\n\")\n",
    "\n",
    "print(f'Decision Tree Accuracy: {float(\"{0:.3f}\".format(dtc_acc))*100}% ')\n",
    "print(f'Learning Support Accuracy: {float(\"{0:.3f}\".format(lsv_acc))*100}% ')\n",
    "print(f'Neural Network Accuracy: {float(\"{0:.3f}\".format(nnc_acc))*100}% ')\n",
    "\n",
    "# float(\"{0:.3f}\".format(nnc_acc)) <--- used to reduce decimal places for easy reading"
   ]
  },
  {
   "cell_type": "markdown",
   "id": "16dd9752",
   "metadata": {},
   "source": [
    "Error rate of Decision Tree"
   ]
  },
  {
   "cell_type": "code",
   "execution_count": 62,
   "id": "da088996",
   "metadata": {},
   "outputs": [
    {
     "name": "stdout",
     "output_type": "stream",
     "text": [
      "Error rate: 18.039215686274517%\n"
     ]
    }
   ],
   "source": [
    "err = (100 - dtc_acc*100)\n",
    "print(f'Error rate: {err}%')"
   ]
  },
  {
   "cell_type": "code",
   "execution_count": 64,
   "id": "f5cac4cc",
   "metadata": {},
   "outputs": [],
   "source": [
    "#dtc_model.toDebugString\n"
   ]
  },
  {
   "cell_type": "markdown",
   "id": "2e03fce4",
   "metadata": {},
   "source": [
    "#### Confusion matrix"
   ]
  },
  {
   "cell_type": "code",
   "execution_count": 66,
   "id": "7cfecdcc",
   "metadata": {},
   "outputs": [
    {
     "data": {
      "text/plain": [
       "255"
      ]
     },
     "execution_count": 66,
     "metadata": {},
     "output_type": "execute_result"
    }
   ],
   "source": [
    "tp = dtc_pred[(dtc_pred.StatusIndexer == 1) & (dtc_pred.prediction == 1)].count()\n",
    "tn = dtc_pred[(dtc_pred.StatusIndexer == 0) & (dtc_pred.prediction == 0)].count()\n",
    "fp = dtc_pred[(dtc_pred.StatusIndexer == 0) & (dtc_pred.prediction == 1)].count()\n",
    "fn = dtc_pred[(dtc_pred.StatusIndexer == 1) & (dtc_pred.prediction == 0)].count()\n",
    "\n",
    "tp+tn+fp+fn # should add to total"
   ]
  },
  {
   "cell_type": "markdown",
   "id": "eb068fb6",
   "metadata": {},
   "source": [
    "### Accuracy, Error Rate, Specificity & Sensitivity for decision tree as highest accuracy"
   ]
  },
  {
   "cell_type": "code",
   "execution_count": 67,
   "id": "e0e27328",
   "metadata": {
    "scrolled": true
   },
   "outputs": [
    {
     "name": "stdout",
     "output_type": "stream",
     "text": [
      "Accuracy: 81.96078431372548%\n",
      "Error rate: 18.03921568627451%\n",
      "Specificity: 0.7769784172661871\n",
      "sensitivity: 0.8706896551724138\n"
     ]
    }
   ],
   "source": [
    "# DECISION TREE\n",
    "tp = dtc_pred[(dtc_pred.StatusIndexer == 1) & (dtc_pred.prediction == 1)].count()\n",
    "tn = dtc_pred[(dtc_pred.StatusIndexer == 0) & (dtc_pred.prediction == 0)].count()\n",
    "fp = dtc_pred[(dtc_pred.StatusIndexer == 0) & (dtc_pred.prediction == 1)].count()\n",
    "fn = dtc_pred[(dtc_pred.StatusIndexer == 1) & (dtc_pred.prediction == 0)].count()\n",
    "\n",
    "#Accuracy, Error Rate, Specificity & Sensitivity\n",
    "acc_r = ((tp + tn) / (tp+tn+fp+fn))*100\n",
    "error_r = ((fp + fn) / (tp+tn+fp+fn))*100\n",
    "specificity = (tn / (fn+tn))\n",
    "sensitivity = (tp / (tp+fp))\n",
    "\n",
    "print(f'Accuracy: {acc_r}%')\n",
    "print(f'Error rate: {error_r}%')\n",
    "print(f'Specificity: {specificity}')\n",
    "print(f'sensitivity: {sensitivity}')"
   ]
  },
  {
   "cell_type": "code",
   "execution_count": 68,
   "id": "6bf63da9",
   "metadata": {},
   "outputs": [
    {
     "name": "stdout",
     "output_type": "stream",
     "text": [
      "Accuracy: 74.11764705882354%\n",
      "Error rate: 25.882352941176475%\n",
      "Specificity: 0.696551724137931\n",
      "sensitivity: 0.8\n"
     ]
    }
   ],
   "source": [
    "# SUPPORT VECTOR\n",
    "tp = lsv_pred[(lsv_pred.StatusIndexer == 1) & (lsv_pred.prediction == 1)].count()\n",
    "tn = lsv_pred[(lsv_pred.StatusIndexer == 0) & (lsv_pred.prediction == 0)].count()\n",
    "fp = lsv_pred[(lsv_pred.StatusIndexer == 0) & (lsv_pred.prediction == 1)].count()\n",
    "fn = lsv_pred[(lsv_pred.StatusIndexer == 1) & (lsv_pred.prediction == 0)].count()\n",
    "\n",
    "\n",
    "#Accuracy, Error Rate, Specificity & Sensitivity\n",
    "acc_r = ((tp + tn) / (tp+tn+fp+fn))*100\n",
    "error_r = ((fp + fn) / (tp+tn+fp+fn))*100\n",
    "specificity = (tn / (fn+tn))\n",
    "sensitivity = (tp / (tp+fp))\n",
    "\n",
    "print(f'Accuracy: {acc_r}%')\n",
    "print(f'Error rate: {error_r}%')\n",
    "print(f'Specificity: {specificity}')\n",
    "print(f'sensitivity: {sensitivity}')"
   ]
  },
  {
   "cell_type": "code",
   "execution_count": 69,
   "id": "7bf6707c",
   "metadata": {},
   "outputs": [
    {
     "name": "stdout",
     "output_type": "stream",
     "text": [
      "Accuracy: 76.47058823529412%\n",
      "Error rate: 23.52941176470588%\n",
      "Specificity: 0.7692307692307693\n",
      "sensitivity: 0.7608695652173914\n",
      "27\n"
     ]
    }
   ],
   "source": [
    "# ARTIFICIAL NEURAL NETWORK\n",
    "tp = nnc_pred[(nnc_pred.StatusIndexer == 1) & (nnc_pred.prediction == 1)].count()\n",
    "tn = nnc_pred[(nnc_pred.StatusIndexer == 0) & (nnc_pred.prediction == 0)].count()\n",
    "fp = nnc_pred[(nnc_pred.StatusIndexer == 0) & (nnc_pred.prediction == 1)].count()\n",
    "fn = nnc_pred[(nnc_pred.StatusIndexer == 1) & (nnc_pred.prediction == 0)].count()\n",
    "\n",
    "\n",
    "#Accuracy, Error Rate, Specificity & Sensitivity\n",
    "acc_r = ((tp + tn) / (tp+tn+fp+fn))*100\n",
    "error_r = ((fp + fn) / (tp+tn+fp+fn))*100\n",
    "specificity = (tn / (fn+tn))\n",
    "sensitivity = (tp / (tp+fp))\n",
    "\n",
    "print(f'Accuracy: {acc_r}%')\n",
    "print(f'Error rate: {error_r}%')\n",
    "print(f'Specificity: {specificity}')\n",
    "print(f'sensitivity: {sensitivity}')\n",
    "\n",
    "print(fn)"
   ]
  },
  {
   "cell_type": "code",
   "execution_count": 70,
   "id": "454afe62",
   "metadata": {},
   "outputs": [
    {
     "data": {
      "text/plain": [
       "0.7608695652173914"
      ]
     },
     "execution_count": 70,
     "metadata": {},
     "output_type": "execute_result"
    }
   ],
   "source": [
    "sensitivity = (tp / (tp+fp))\n",
    "sensitivity"
   ]
  },
  {
   "cell_type": "markdown",
   "id": "475df10c",
   "metadata": {},
   "source": [
    "## MapReduce nuclear_plants_Large_dataset.csv\n",
    "\n",
    "### using Parallel programming to analyse larger dataset (1 million entries)\n",
    "\n",
    "#### A dataset of this size, Pyspark would not be able to handle it. Needs GPU processing"
   ]
  },
  {
   "cell_type": "markdown",
   "id": "78628833",
   "metadata": {},
   "source": [
    "- perform MapReduce using spark. \n",
    "- calculate Minimun, Maximum, Mean for every feature"
   ]
  },
  {
   "cell_type": "markdown",
   "id": "cee113bd",
   "metadata": {},
   "source": [
    "- Mapper : splits individual sensor into int array values, \n",
    "- Reducer : merges two mapper objects as arguments\n",
    "\n",
    "    "
   ]
  },
  {
   "cell_type": "code",
   "execution_count": 71,
   "id": "1e9ddab4",
   "metadata": {
    "scrolled": true
   },
   "outputs": [
    {
     "name": "stdout",
     "output_type": "stream",
     "text": [
      "Min values: \n",
      "0.085101889\n",
      "0.040301865\n",
      "4.382601524\n",
      "0.154702541\n",
      "0.024808914\n",
      "0.010401445\n",
      "0.077401972\n",
      "0.005802369\n",
      "0.009204939\n",
      "0.027705465\n",
      "0.06460834\n",
      "0.083106768\n",
      "\n",
      "Max values: \n",
      "12.12979591\n",
      "11.92839597\n",
      "14.0981967\n",
      "16.3567945\n",
      "56.85618071\n",
      "9.221196874\n",
      "12.64749573\n",
      "15.10849487\n",
      "31.49808931\n",
      "34.86758818\n",
      "53.23838196\n",
      "43.23138536\n"
     ]
    }
   ],
   "source": [
    "#MapReduce\n",
    "\n",
    "#functions\n",
    "\n",
    "def Map(x):\n",
    "    return(x[0], 1)\n",
    "    \n",
    "def getMin(x, y):\n",
    "    if x[0] < y[0]:\n",
    "        return x\n",
    "    else:\n",
    "        return y\n",
    "    \n",
    "def getMax(x, y):\n",
    "    if x[0] > y[0]:\n",
    "        return x\n",
    "    else:\n",
    "        return y\n",
    "\n",
    "def getMean(x, y):\n",
    "    return((x[0]+y[0], x[1]+y[1]))\n",
    "\n",
    "~atasetBig = spark.read.csv('nuclear_plants_big_dataset.csv', header=True, inferSchema=True).drop('Status')\n",
    "\n",
    "minList = []\n",
    "maxList = []\n",
    "meanList = []\n",
    "\n",
    "for i in datasetBig.columns:\n",
    "    datasetBigRdd = (datasetBig.select(i)).rdd\n",
    "    mapped = datasetBigRdd.map(Map)\n",
    "    \n",
    "    findMin = mapped.reduce(getMin)[0]\n",
    "    minList.append(findMin)\n",
    "    \n",
    "    findMax = mapped.reduce(getMax)[0]\n",
    "    maxList.append(findMax)\n",
    "    \n",
    "    ####  Map and Reduce mean // Not working\n",
    "    #findMean = mapped.reduce(getMean)[0]\n",
    "    #meanList.append(findMean[0] / findMean[1])\n",
    "\n",
    "print('Min values: ')\n",
    "for i in minList:\n",
    "    \n",
    "    print(str(i))\n",
    "       \n",
    "     \n",
    "\n",
    "print('\\nMax values: ')\n",
    "for i in maxList:\n",
    "\n",
    "    print(str(i))\n",
    "\n",
    "\n",
    "## Print mean value, but not working\n",
    "#print('Mean values: ')\n",
    "#for i in meanList:\n",
    "#    print(str(i))"
   ]
  },
  {
   "cell_type": "code",
   "execution_count": 90,
   "id": "a2f0d81e",
   "metadata": {},
   "outputs": [
    {
     "name": "stdout",
     "output_type": "stream",
     "text": [
      "0.085101889\n",
      "0.040301865\n",
      "4.382601524\n",
      "0.154702541\n",
      "0.024808914\n",
      "0.010401445\n",
      "0.077401972\n",
      "0.005802369\n",
      "0.009204939\n"
     ]
    }
   ],
   "source": [
    "for i in [0,1,2,3,4,5,6,7,8]:\n",
    "    print(f'{minList[i]}')"
   ]
  }
 ],
 "metadata": {
  "kernelspec": {
   "display_name": "Python 3.9.7 ('BIGDATA')",
   "language": "python",
   "name": "python3"
  },
  "language_info": {
   "codemirror_mode": {
    "name": "ipython",
    "version": 3
   },
   "file_extension": ".py",
   "mimetype": "text/x-python",
   "name": "python",
   "nbconvert_exporter": "python",
   "pygments_lexer": "ipython3",
   "version": "3.9.7"
  },
  "vscode": {
   "interpreter": {
    "hash": "15864edc446cf05ba59c91b19650b35b42e02404791af0998e35be4af0d1cdbe"
   }
  }
 },
 "nbformat": 4,
 "nbformat_minor": 5
}
